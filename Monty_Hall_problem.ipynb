{
  "nbformat": 4,
  "nbformat_minor": 0,
  "metadata": {
    "colab": {
      "name": "Monty Hall problem.ipynb",
      "provenance": [],
      "authorship_tag": "ABX9TyMPx9UQF7HycsZjVQxbKJCK",
      "include_colab_link": true
    },
    "kernelspec": {
      "name": "python3",
      "display_name": "Python 3"
    },
    "language_info": {
      "name": "python"
    }
  },
  "cells": [
    {
      "cell_type": "markdown",
      "metadata": {
        "id": "view-in-github",
        "colab_type": "text"
      },
      "source": [
        "<a href=\"https://colab.research.google.com/github/delhian/funny-tasks/blob/main/Monty_Hall_problem.ipynb\" target=\"_parent\"><img src=\"https://colab.research.google.com/assets/colab-badge.svg\" alt=\"Open In Colab\"/></a>"
      ]
    },
    {
      "cell_type": "markdown",
      "metadata": {
        "id": "KYLrBLj5NS8N"
      },
      "source": [
        "https://en.wikipedia.org/wiki/Monty_Hall_problem"
      ]
    },
    {
      "cell_type": "code",
      "metadata": {
        "id": "QGZta0flNVNB"
      },
      "source": [
        "import random as rn"
      ],
      "execution_count": 1,
      "outputs": []
    },
    {
      "cell_type": "code",
      "metadata": {
        "id": "N2Wrufhf1U8v"
      },
      "source": [
        "def tests(dict,\n",
        "          attempts):\n",
        "  doors_zeros = [x for x, it in dict.items() if it != 1]\n",
        "  doors = list({1:1, 2:0, 3:0, })\n",
        "  print(f'doors: {doors}')\n",
        "  print(f'doors_zeros: {doors_zeros}\\n')\n",
        "  i = 0\n",
        "  successes_switch = 0\n",
        "  successes_no_switch = 0\n",
        "  while i <=  attempts:\n",
        "    i += 1\n",
        "    # -- choose:\n",
        "    choose_1 = rn.choice(doors)\n",
        "\n",
        "    # -- no switch:\n",
        "    if dict[choose_1] == 1:\n",
        "      successes_no_switch += 1\n",
        "\n",
        "    # -- open door:\n",
        "    n_open_door = rn.choice([x for x in doors_zeros if x != choose_1])\n",
        "\n",
        "    # -- switch to the another door:\n",
        "    choose_2 = rn.choice([x for x in doors if x != choose_1 and x != n_open_door])\n",
        "    if dict[choose_2] == 1:\n",
        "      successes_switch += 1\n",
        "  print(f'successes_no_switch: {successes_no_switch/attempts*100}')\n",
        "  print(f'successes_switch: {successes_switch/attempts*100}')"
      ],
      "execution_count": 20,
      "outputs": []
    },
    {
      "cell_type": "code",
      "metadata": {
        "colab": {
          "base_uri": "https://localhost:8080/"
        },
        "id": "D4U_tEjN4DNB",
        "outputId": "7bb95f25-4a9e-4086-e64e-73d4255757ef"
      },
      "source": [
        "tests({1:1, 2:0, 3:0, }, 100000)"
      ],
      "execution_count": 21,
      "outputs": [
        {
          "output_type": "stream",
          "name": "stdout",
          "text": [
            "doors: [1, 2, 3]\n",
            "doors_zeros: [2, 3]\n",
            "\n",
            "successes_no_switch: 33.232\n",
            "successes_switch: 66.769\n"
          ]
        }
      ]
    },
    {
      "cell_type": "code",
      "metadata": {
        "id": "eiUPx6lJQU8e"
      },
      "source": [
        ""
      ],
      "execution_count": null,
      "outputs": []
    }
  ]
}